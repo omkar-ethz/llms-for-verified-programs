{
 "cells": [
  {
   "cell_type": "markdown",
   "metadata": {},
   "source": [
    "### Pickle verification results"
   ]
  },
  {
   "cell_type": "code",
   "execution_count": null,
   "metadata": {},
   "outputs": [],
   "source": [
    "import json\n",
    "import data\n",
    "import evaluation"
   ]
  },
  {
   "cell_type": "code",
   "execution_count": 1,
   "metadata": {},
   "outputs": [],
   "source": [
    "import data\n",
    "data = data.Data(\"config.json\", \"nagini_examples/incremental\")"
   ]
  },
  {
   "cell_type": "code",
   "execution_count": null,
   "metadata": {},
   "outputs": [],
   "source": [
    "RESULT_FILE = \"nagini_examples/incremental/verif_result.json\"\n",
    "data = data.Data(\"config.json\", \"nagini_examples/incremental\")\n",
    "ev = evaluation.Evaluation(data)\n",
    "examples = ev.data.get_list_of_examples(\"list\")\n",
    "# examples = [\"prepend\"]\n",
    "verif_result:dict[str,str] = {}\n",
    "\n",
    "# with open(RESULT_FILE, \"rb\") as f:\n",
    "#     verif_result = pickle.load(f)\n",
    "# print(verif_result)\n",
    "\n",
    "for example in examples:\n",
    "    program_snippet = ev.data.get_example(\"list\", example, \"unverified\")\n",
    "    result = ev.verify_program_snippet(\"list\", program_snippet)\n",
    "    verif_result[example] = str(result)\n",
    "\n",
    "with open(RESULT_FILE, \"w\") as f:\n",
    "    json.dump(verif_result, f, indent=4)"
   ]
  },
  {
   "cell_type": "code",
   "execution_count": null,
   "metadata": {},
   "outputs": [],
   "source": [
    "verif_result"
   ]
  },
  {
   "cell_type": "code",
   "execution_count": null,
   "metadata": {},
   "outputs": [],
   "source": [
    "import pickle\n",
    "with open(\"nagini_examples/verif_result_sorting.pkl\", \"rb\") as f:\n",
    "    verif_result = pickle.load(f)\n",
    "verif_result\n"
   ]
  },
  {
   "cell_type": "code",
   "execution_count": null,
   "metadata": {},
   "outputs": [],
   "source": [
    "import json\n",
    "with open(\"nagini_examples/verif_result_sorting.json\", \"w\") as f:\n",
    "    json.dump(verif_result, f, indent=4)"
   ]
  }
 ],
 "metadata": {
  "kernelspec": {
   "display_name": "l4vp",
   "language": "python",
   "name": "python3"
  },
  "language_info": {
   "codemirror_mode": {
    "name": "ipython",
    "version": 3
   },
   "file_extension": ".py",
   "mimetype": "text/x-python",
   "name": "python",
   "nbconvert_exporter": "python",
   "pygments_lexer": "ipython3",
   "version": "3.12.0"
  }
 },
 "nbformat": 4,
 "nbformat_minor": 2
}
