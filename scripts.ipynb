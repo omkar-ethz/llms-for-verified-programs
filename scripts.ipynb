{
 "cells": [
  {
   "cell_type": "markdown",
   "metadata": {},
   "source": [
    "### Pickle verification results"
   ]
  },
  {
   "cell_type": "code",
   "execution_count": 2,
   "metadata": {},
   "outputs": [],
   "source": [
    "import pickle\n",
    "import evaluation"
   ]
  },
  {
   "cell_type": "code",
   "execution_count": 3,
   "metadata": {},
   "outputs": [
    {
     "name": "stdout",
     "output_type": "stream",
     "text": [
      "{'prepend': 'Verification successful', 'append': 'Verification failed: Conditional statement might fail. There might be insufficient permission to access head.next. at line 3.7', 'find': 'Verification failed: Conditional statement might fail. There might be insufficient permission to access head.val. at line 5.7', 'find_iter': 'Verification failed: Conditional statement might fail. There might be insufficient permission to access ptr.val. at line 5.11', 'remove': 'Verification failed: Conditional statement might fail. There might be insufficient permission to access head.val. at line 3.7', 'join_lists': 'Verification failed: Method call might fail. There might be insufficient permission to access head1.next. at line 7.17', 'reverse': 'Verification failed: Conditional statement might fail. There might be insufficient permission to access head.next. at line 3.7', 'merge': 'Verification failed: Conditional statement might fail. There might be insufficient permission to access head1.val. at line 7.7'}\n",
      "response ['', 'Verification failed', 'Errors:', 'Conditional statement might fail. There might be insufficient permission to access is_list(head). (tmp.py@25.7)', 'Verification took 1.95 seconds.']\n"
     ]
    }
   ],
   "source": [
    "PICKLE = \"nagini_examples/verif_result.pkl\"\n",
    "ev = evaluation.Evaluation(\"config.json\")\n",
    "# examples = ev.data.get_list_of_examples(\"list\")\n",
    "examples = [\"example_err_1\"]\n",
    "verif_result:dict[str,str] = {}\n",
    "\n",
    "with open(PICKLE, \"rb\") as f:\n",
    "    verif_result = pickle.load(f)\n",
    "print(verif_result)\n",
    "\n",
    "for example in examples:\n",
    "    program_snippet = ev.data.get_example(\"list\", example, \"unverified\")\n",
    "    result = ev._verify_program_snippet(\"list\", program_snippet)\n",
    "    verif_result[example] = str(result)\n",
    "\n",
    "with open(PICKLE, \"wb\") as f:\n",
    "    pickle.dump(verif_result, f)"
   ]
  },
  {
   "cell_type": "code",
   "execution_count": 5,
   "metadata": {},
   "outputs": [
    {
     "data": {
      "text/plain": [
       "{'prepend': 'Verification successful',\n",
       " 'append': 'Verification failed: Conditional statement might fail. There might be insufficient permission to access head.next. at line 3.7',\n",
       " 'find': 'Verification failed: Conditional statement might fail. There might be insufficient permission to access head.val. at line 5.7',\n",
       " 'find_iter': 'Verification failed: Conditional statement might fail. There might be insufficient permission to access ptr.val. at line 5.11',\n",
       " 'remove': 'Verification failed: Conditional statement might fail. There might be insufficient permission to access head.val. at line 3.7',\n",
       " 'join_lists': 'Verification failed: Method call might fail. There might be insufficient permission to access head1.next. at line 7.17',\n",
       " 'reverse': 'Verification failed: Conditional statement might fail. There might be insufficient permission to access head.next. at line 3.7',\n",
       " 'merge': 'Verification failed: Conditional statement might fail. There might be insufficient permission to access head1.val. at line 7.7',\n",
       " 'example_err_1': 'Verification failed: Conditional statement might fail. There might be insufficient permission to access is_list(head). at line 5.7'}"
      ]
     },
     "execution_count": 5,
     "metadata": {},
     "output_type": "execute_result"
    }
   ],
   "source": [
    "with open(\"nagini_examples/verif_result.pkl\", \"rb\") as f:\n",
    "    verif_result = pickle.load(f)\n",
    "verif_result"
   ]
  }
 ],
 "metadata": {
  "kernelspec": {
   "display_name": "l4vp",
   "language": "python",
   "name": "python3"
  },
  "language_info": {
   "codemirror_mode": {
    "name": "ipython",
    "version": 3
   },
   "file_extension": ".py",
   "mimetype": "text/x-python",
   "name": "python",
   "nbconvert_exporter": "python",
   "pygments_lexer": "ipython3",
   "version": "3.12.0"
  }
 },
 "nbformat": 4,
 "nbformat_minor": 2
}
