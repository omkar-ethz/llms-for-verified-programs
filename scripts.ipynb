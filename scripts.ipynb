{
 "cells": [
  {
   "cell_type": "markdown",
   "metadata": {},
   "source": [
    "### Pickle verification results"
   ]
  },
  {
   "cell_type": "code",
   "execution_count": 1,
   "metadata": {},
   "outputs": [],
   "source": [
    "import pickle\n",
    "import evaluation"
   ]
  },
  {
   "cell_type": "code",
   "execution_count": 2,
   "metadata": {},
   "outputs": [
    {
     "name": "stdout",
     "output_type": "stream",
     "text": [
      "response ['', 'Verification successful', 'Verification took 2.53 seconds.']\n",
      "response ['', 'Verification failed', 'Errors:', 'Conditional statement might fail. There might be insufficient permission to access head.next. (tmp.py@23.7)', 'Verification took 2.02 seconds.']\n",
      "response ['', 'Verification failed', 'Errors:', 'Conditional statement might fail. There might be insufficient permission to access head.val. (tmp.py@25.7)', 'Verification took 2.00 seconds.']\n",
      "response ['', 'Verification failed', 'Errors:', 'Conditional statement might fail. There might be insufficient permission to access ptr.val. (tmp.py@25.11)', 'Verification took 2.01 seconds.']\n",
      "response ['', 'Verification failed', 'Errors:', 'Conditional statement might fail. There might be insufficient permission to access head.val. (tmp.py@23.7)', 'Verification took 1.89 seconds.']\n",
      "response ['', 'Verification failed', 'Errors:', 'Method call might fail. There might be insufficient permission to access head1.next. (tmp.py@27.17)', 'Verification took 2.48 seconds.']\n",
      "response ['', 'Verification failed', 'Errors:', 'Conditional statement might fail. There might be insufficient permission to access head.next. (tmp.py@23.7)', 'Verification took 1.91 seconds.']\n",
      "response ['', 'Verification failed', 'Errors:', 'Conditional statement might fail. There might be insufficient permission to access head1.val. (tmp.py@27.7)', 'Verification took 1.95 seconds.']\n",
      "response ['', 'Verification failed', 'Errors:', 'Conditional statement might fail. There might be insufficient permission to access head.next. (tmp.py@23.7)', 'Conditional statement might fail. There might be insufficient permission to access node.val. (tmp.py@35.7)', 'Verification took 1.94 seconds.']\n",
      "response ['', 'Verification failed', 'Errors:', 'Conditional statement might fail. There might be insufficient permission to access head.next. (tmp.py@25.7)', 'Conditional statement might fail. There might be insufficient permission to access head.next. (tmp.py@37.7)', 'Conditional statement might fail. There might be insufficient permission to access fast.next. (tmp.py@52.7)', 'Conditional statement might fail. There might be insufficient permission to access head1.val. (tmp.py@64.7)', 'Verification took 2.02 seconds.']\n"
     ]
    }
   ],
   "source": [
    "# with open(\"nagini_examples/verif_result.pkl\", \"rb\") as f:\n",
    "#     verif_result = pickle.load(f)\n",
    "# print(verif_result)\n",
    "ev = evaluation.Evaluation(\"config_with_sorting.json\")\n",
    "verif_result:dict[str,str] = {}\n",
    "examples = ev.data.get_list_of_examples(\"list\")\n",
    "for example in examples:\n",
    "    program_snippet = ev.data.get_example(\"list\", example, \"unverified\")\n",
    "    result = ev._verify_program_snippet(\"list\", program_snippet)\n",
    "    verif_result[example] = str(result)\n",
    "with open(\"nagini_examples/verif_result_sorting.pkl\", \"wb\") as f:\n",
    "    pickle.dump(verif_result, f)"
   ]
  },
  {
   "cell_type": "code",
   "execution_count": 3,
   "metadata": {},
   "outputs": [
    {
     "name": "stdout",
     "output_type": "stream",
     "text": [
      "{'prepend': 'Verification successful', 'append': 'Verification failed: Conditional statement might fail. There might be insufficient permission to access head.next. at line 3.7', 'find': 'Verification failed: Conditional statement might fail. There might be insufficient permission to access head.val. at line 5.7', 'find_iter': 'Verification failed: Conditional statement might fail. There might be insufficient permission to access ptr.val. at line 5.11', 'remove': 'Verification failed: Conditional statement might fail. There might be insufficient permission to access head.val. at line 3.7', 'join_lists': 'Verification failed: Method call might fail. There might be insufficient permission to access head1.next. at line 7.17', 'reverse': 'Verification failed: Conditional statement might fail. There might be insufficient permission to access head.next. at line 3.7', 'merge': 'Verification failed: Conditional statement might fail. There might be insufficient permission to access head1.val. at line 7.7', 'insertion_sort': 'Verification failed: Conditional statement might fail. There might be insufficient permission to access head.next. at line 3.7\\nConditional statement might fail. There might be insufficient permission to access node.val. at line 15.7', 'merge_sort': 'Verification failed: Conditional statement might fail. There might be insufficient permission to access head.next. at line 5.7\\nConditional statement might fail. There might be insufficient permission to access head.next. at line 17.7\\nConditional statement might fail. There might be insufficient permission to access fast.next. at line 32.7\\nConditional statement might fail. There might be insufficient permission to access head1.val. at line 44.7'}\n"
     ]
    }
   ],
   "source": [
    "with open(\"nagini_examples/verif_result_sorting.pkl\", \"rb\") as f:\n",
    "    verif_result = pickle.load(f)\n",
    "print(verif_result)\n"
   ]
  }
 ],
 "metadata": {
  "kernelspec": {
   "display_name": "l4vp",
   "language": "python",
   "name": "python3"
  },
  "language_info": {
   "codemirror_mode": {
    "name": "ipython",
    "version": 3
   },
   "file_extension": ".py",
   "mimetype": "text/x-python",
   "name": "python",
   "nbconvert_exporter": "python",
   "pygments_lexer": "ipython3",
   "version": "3.12.0"
  }
 },
 "nbformat": 4,
 "nbformat_minor": 2
}
