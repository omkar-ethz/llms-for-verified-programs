{
 "cells": [
  {
   "cell_type": "markdown",
   "metadata": {},
   "source": [
    "### Cache verification results to verif_result.json"
   ]
  },
  {
   "cell_type": "code",
   "execution_count": 1,
   "metadata": {},
   "outputs": [
    {
     "name": "stdout",
     "output_type": "stream",
     "text": [
      "sagemaker.config INFO - Not applying SDK defaults from location: /etc/xdg/sagemaker/config.yaml\n",
      "sagemaker.config INFO - Not applying SDK defaults from location: /home/omkar/.config/sagemaker/config.yaml\n"
     ]
    }
   ],
   "source": [
    "import json\n",
    "import data\n",
    "import evaluation"
   ]
  },
  {
   "cell_type": "code",
   "execution_count": 12,
   "metadata": {},
   "outputs": [
    {
     "name": "stdout",
     "output_type": "stream",
     "text": [
      "{'val_head': 'Verification failed: Assignment might fail. There might be insufficient permission to access node.key. at line 3.4', 'height': 'Verification failed: Method call might fail. There might be insufficient permission to access node.left. at line 5.16', 'count': 'Verification failed: Method call might fail. There might be insufficient permission to access node.left. at line 5.12', 'sum': 'Verification failed: Method call might fail. There might be insufficient permission to access node.left. at line 5.19', 'insert': 'Verification failed: Conditional statement might fail. There might be insufficient permission to access node.key. at line 3.7', 'contains': 'Verification failed: Conditional statement might fail. There might be insufficient permission to access node.key. at line 5.7', 'inorder': 'Verification failed: Method call might fail. There might be insufficient permission to access node.left. at line 5.4', 'min': 'Verification failed: Conditional statement might fail. There might be insufficient permission to access node.left. at line 3.7', 'subtree': 'Verification failed: Conditional statement might fail. There might be insufficient permission to access root.key. at line 6.8', 'mirror': 'Verification failed: Assignment might fail. There might be insufficient permission to access root.left. at line 5.4'}\n",
      "response ['', 'Verification failed', 'Errors:', 'Conditional statement might fail. There might be insufficient permission to access root.left. (tmp.py@39.7)', 'Verification took 3.05 seconds.']\n"
     ]
    }
   ],
   "source": [
    "RESULT_FILE = \"nagini_examples/tree_finetune/verif_result.json\"\n",
    "KEY = \"tree\"\n",
    "dataset = data.Data(\"config.json\", \"nagini_examples/tree_finetune\")\n",
    "ev = evaluation.Evaluation(dataset)\n",
    "examples = ev.data.get_list_of_examples(KEY)\n",
    "verif_result:dict[str,str] = {}\n",
    "\n",
    "# with open(RESULT_FILE, \"rb\") as f:\n",
    "#     verif_result = json.load(f)\n",
    "# print(verif_result)\n",
    "\n",
    "for example in examples:\n",
    "    program_snippet = ev.data.get_example(KEY, example, \"unverified\")\n",
    "    result = ev.verify_program_snippet(KEY, program_snippet, method_name=example)\n",
    "    verif_result[example] = str(result)\n",
    "\n",
    "with open(RESULT_FILE, \"w\") as f:\n",
    "    json.dump(verif_result, f, indent=4)"
   ]
  },
  {
   "cell_type": "code",
   "execution_count": 13,
   "metadata": {},
   "outputs": [
    {
     "data": {
      "text/plain": [
       "{'val_head': 'Verification failed: Assignment might fail. There might be insufficient permission to access node.key. at line 3.4',\n",
       " 'height': 'Verification failed: Method call might fail. There might be insufficient permission to access node.left. at line 5.16',\n",
       " 'count': 'Verification failed: Method call might fail. There might be insufficient permission to access node.left. at line 5.12',\n",
       " 'sum': 'Verification failed: Method call might fail. There might be insufficient permission to access node.left. at line 5.19',\n",
       " 'insert': 'Verification failed: Conditional statement might fail. There might be insufficient permission to access node.key. at line 3.7',\n",
       " 'contains': 'Verification failed: Conditional statement might fail. There might be insufficient permission to access node.key. at line 5.7',\n",
       " 'inorder': 'Verification failed: Method call might fail. There might be insufficient permission to access node.left. at line 5.4',\n",
       " 'min': 'Verification failed: Conditional statement might fail. There might be insufficient permission to access node.left. at line 3.7',\n",
       " 'subtree': 'Verification failed: Conditional statement might fail. There might be insufficient permission to access root.key. at line 6.8',\n",
       " 'mirror': 'Verification failed: Assignment might fail. There might be insufficient permission to access root.left. at line 5.4',\n",
       " 'min_depth': 'Verification failed: Conditional statement might fail. There might be insufficient permission to access root.left. at line 5.7'}"
      ]
     },
     "execution_count": 13,
     "metadata": {},
     "output_type": "execute_result"
    }
   ],
   "source": [
    "verif_result"
   ]
  },
  {
   "cell_type": "code",
   "execution_count": null,
   "metadata": {},
   "outputs": [],
   "source": [
    "import json\n",
    "with open(\"nagini_examples/verif_result_sorting.json\", \"w\") as f:\n",
    "    json.dump(verif_result, f, indent=4)"
   ]
  },
  {
   "cell_type": "markdown",
   "metadata": {},
   "source": [
    "Script to create unverified programs given the verified program and write them to the dataset."
   ]
  },
  {
   "cell_type": "code",
   "execution_count": 11,
   "metadata": {},
   "outputs": [],
   "source": [
    "import data\n",
    "import ast\n",
    "import ast_util\n",
    "\n",
    "KEY = \"tree\"\n",
    "DATA_ROOT = \"nagini_examples/tree_finetune\"\n",
    "dataset = data.Data(\"config.json\", DATA_ROOT)\n",
    "examples = dataset.get_list_of_examples(KEY)\n",
    "for example in examples:\n",
    "    program_snippet = dataset.get_example(KEY, example, \"verified\")\n",
    "    program_ast = ast.parse(program_snippet, type_comments=True)\n",
    "    unverifed_ast = ast_util.remove_all_annotations(program_ast)\n",
    "    unverified = ast.unparse(unverifed_ast)\n",
    "    dataset.add_unverified(example, unverified, KEY)"
   ]
  }
 ],
 "metadata": {
  "kernelspec": {
   "display_name": "l4vp",
   "language": "python",
   "name": "python3"
  },
  "language_info": {
   "codemirror_mode": {
    "name": "ipython",
    "version": 3
   },
   "file_extension": ".py",
   "mimetype": "text/x-python",
   "name": "python",
   "nbconvert_exporter": "python",
   "pygments_lexer": "ipython3",
   "version": "3.12.1"
  }
 },
 "nbformat": 4,
 "nbformat_minor": 2
}
