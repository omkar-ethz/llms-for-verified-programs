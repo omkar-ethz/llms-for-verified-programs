{
 "cells": [
  {
   "cell_type": "code",
   "execution_count": 1,
   "metadata": {},
   "outputs": [],
   "source": [
    "import os\n",
    "from dotenv import load_dotenv\n",
    "import openai\n",
    "import eval\n",
    "\n",
    "load_dotenv()\n",
    "openai.api_key = os.getenv(\"GPT_SECRET_KEY\")"
   ]
  },
  {
   "cell_type": "markdown",
   "metadata": {},
   "source": [
    "## Few shot prompting\n",
    "Here we give in the prompt a sequence of unverified (role: user) and corresponding verified (role: assistant) programs. In the end we give an unverified program, and expect the assistant to generate a verified program.\n",
    "\n",
    "### Run single\n",
    "Modify the `EXAMPLE_TO_HOLD_OUT` variable in the cell below to see the output from GPT, and corresponding output from Nagini."
   ]
  },
  {
   "cell_type": "code",
   "execution_count": 2,
   "metadata": {},
   "outputs": [
    {
     "name": "stdout",
     "output_type": "stream",
     "text": [
      "Generated program from GPT:\n",
      "def prepend(head: Node, val: int) -> Node:\n",
      "    \"\"\"Prepends a new node with the given value to the list.\"\"\"\n",
      "    Requires(is_list(head))\n",
      "    Ensures(is_list(Result()))\n",
      "    n = Node(val, head)\n",
      "    Fold(is_list(n))\n",
      "    return n\n",
      "=====================================\n",
      "Verification result:\n",
      "response ['', 'Verification successful', 'Verification took 4.18 seconds.']\n",
      "Verification successful\n"
     ]
    }
   ],
   "source": [
    "EXAMPLE_TO_HOLD_OUT = \"prepend\"\n",
    "MAX_ATTEMPTS = 2  # Number of times to try generating a program. ;;to-implement\n",
    "response = openai.ChatCompletion.create(\n",
    "    model=\"gpt-3.5-turbo\",\n",
    "    messages=eval.get_few_shot_prompt(EXAMPLE_TO_HOLD_OUT),\n",
    ")\n",
    "program_snippet = response[\"choices\"][0][\"message\"][\"content\"]\n",
    "print(\"Generated program from GPT:\")\n",
    "print(program_snippet)\n",
    "print(\"=====================================\")\n",
    "print(\"Verification result:\")\n",
    "print(eval.run_single(\"list\", program_snippet))"
   ]
  },
  {
   "cell_type": "markdown",
   "metadata": {},
   "source": [
    "### Run all\n",
    "Repeat the above experiment for all examples with one example held out in each call to GPT and summarize the results."
   ]
  },
  {
   "cell_type": "code",
   "execution_count": 3,
   "metadata": {},
   "outputs": [
    {
     "name": "stdout",
     "output_type": "stream",
     "text": [
      "Running Evaluation on examples:\n",
      " ['prepend', 'append', 'find', 'find_iter', 'remove', 'join_lists']\n"
     ]
    }
   ],
   "source": [
    "from data import Data\n",
    "\n",
    "data = Data()\n",
    "examples = data.get_list_of_examples(\"list\")\n",
    "print(\"Running Evaluation on examples:\\n\", examples)"
   ]
  },
  {
   "cell_type": "code",
   "execution_count": 4,
   "metadata": {},
   "outputs": [
    {
     "name": "stdout",
     "output_type": "stream",
     "text": [
      "Running example: prepend\n",
      "Generated program from GPT:\n",
      "def prepend(head: Node, val: int) -> Node:\n",
      "    \"\"\"Prepends a new node with the given value to the list.\"\"\"\n",
      "    Requires(is_list(head))\n",
      "    Ensures(is_list(Result()))\n",
      "    \n",
      "    Unfold(is_list(head))\n",
      "    n = Node(val, head)\n",
      "    Fold(is_list(n))\n",
      "    \n",
      "    return n\n",
      "=====================================\n",
      "Verification result:\n",
      "response ['', 'Verification failed', 'Errors:', 'Fold might fail. There might be insufficient permission to access is_list(head.next). (tmp.py@28.4)', 'Verification took 2.55 seconds.']\n",
      "Errors:\n",
      "Fold might fail. There might be insufficient permission to access is_list(head.next). (tmp.py@28.4)\n",
      "Running example: append\n",
      "Generated program from GPT:\n",
      "def append(head: Node, val: int) -> None:\n",
      "    \"\"\"Appends a new node with the given value to the end of the list.\"\"\"\n",
      "    Requires(is_list(head))\n",
      "    Ensures(is_list(head))\n",
      "    Unfold(is_list(head))\n",
      "    if head.next is None:\n",
      "        n = Node(val)\n",
      "        Unfold(is_list(n))\n",
      "        head.next = n\n",
      "        Fold(is_list(n))\n",
      "    else:\n",
      "        append(head.next, val)\n",
      "    Fold(is_list(head))\n",
      "=====================================\n",
      "Verification result:\n",
      "response ['', 'Verification failed', 'Errors:', 'Unfold might fail. There might be insufficient permission to access is_list(n). (tmp.py@28.8)', 'Verification took 2.22 seconds.']\n",
      "Errors:\n",
      "Unfold might fail. There might be insufficient permission to access is_list(n). (tmp.py@28.8)\n",
      "Running example: find\n",
      "Generated program from GPT:\n",
      "def find(head: Optional[Node], val: int) -> Optional[Node]:\n",
      "    \"\"\"Returns the first node with the given value, or None if not found.\"\"\"\n",
      "    Requires(Implies(head is not None, is_list(head)))\n",
      "    Ensures(Implies(head is not None, is_list(head)))\n",
      "\n",
      "    if head is None:\n",
      "        return None\n",
      "    if head.val == val:\n",
      "        return head\n",
      "    Unfold(is_list(head))\n",
      "    result = find(head.next, val)\n",
      "    Fold(is_list(head))\n",
      "    return result\n",
      "=====================================\n",
      "Verification result:\n",
      "response ['', 'Verification failed', 'Errors:', 'Conditional statement might fail. There might be insufficient permission to access head.val. (tmp.py@28.7)', 'Verification took 2.05 seconds.']\n",
      "Errors:\n",
      "Conditional statement might fail. There might be insufficient permission to access head.val. (tmp.py@28.7)\n",
      "Running example: find_iter\n",
      "Generated program from GPT:\n",
      "def find_iter(head: Node, val: int) -> Optional[Node]:\n",
      "    \"\"\"Returns the first node with the given value, or None if not found.\"\"\"\n",
      "    Requires(is_list(head))\n",
      "    Ensures(Implies(Result() is not None, is_list(Result())))\n",
      "\n",
      "    ptr = head  # type: Optional[Node]\n",
      "    Invariant(Implies(ptr is not None, is_list(ptr)))\n",
      "    while ptr is not None:\n",
      "        Unfold(is_list(ptr))\n",
      "        if ptr.val == val:\n",
      "            Fold(is_list(ptr))\n",
      "            return ptr\n",
      "        ptr = ptr.next\n",
      "    return None\n",
      "=====================================\n",
      "Verification result:\n",
      "response ['Runtime Error']\n",
      "Runtime Error\n",
      "Running example: remove\n",
      "Generated program from GPT:\n",
      "def remove(head: Node, val: int) -> Optional[Node]:\n",
      "    \"\"\"Removes the first node with the given value from the list.\"\"\"\n",
      "    Requires(is_list(head))\n",
      "    Ensures(Implies(Result() is not None, is_list(Result())))\n",
      "\n",
      "    Unfold(is_list(head))\n",
      "    if head.val == val:\n",
      "        return head.next\n",
      "    if head.next is None:\n",
      "        Fold(is_list(head))\n",
      "        return head\n",
      "    Unfold(is_list(head))\n",
      "    head.next = remove(head.next, val)\n",
      "    Fold(is_list(head))\n",
      "    return head\n",
      "=====================================\n",
      "Verification result:\n",
      "response ['', 'Verification failed', 'Errors:', 'Unfold might fail. There might be insufficient permission to access is_list(head). (tmp.py@32.4)', 'Verification took 2.47 seconds.']\n",
      "Errors:\n",
      "Unfold might fail. There might be insufficient permission to access is_list(head). (tmp.py@32.4)\n",
      "Running example: join_lists\n",
      "Generated program from GPT:\n",
      "def join_lists(head1: Optional[Node], head2: Optional[Node]) -> Optional[Node]:\n",
      "    \"\"\"Returns the head of the list obtained by joining the two lists.\"\"\"\n",
      "    if head1 is None:\n",
      "        return head2\n",
      "    if head2 is None:\n",
      "        return head1\n",
      "    return join_lists_helper(head1, head2)\n",
      "\n",
      "def join_lists_helper(head1: Optional[Node], head2: Optional[Node]) -> Optional[Node]:\n",
      "    \"\"\"Helper function for join_lists.\"\"\"\n",
      "    Requires(head1 is not None and is_list(head1))\n",
      "    Requires(is_list(head2))\n",
      "    Ensures(is_list(Result()))\n",
      "    Unfold(is_list(head1))\n",
      "    head1.next = join_lists_helper(head1.next, head2)\n",
      "    Fold(is_list(head1))\n",
      "    return head1\n",
      "=====================================\n",
      "Verification result:\n",
      "response ['', 'Verification failed', 'Errors:', 'The precondition of method join_lists_helper might not hold. There might be insufficient permission to access is_list(head1). (tmp.py@27.11)', 'The precondition of method join_lists_helper might not hold. Assertion (head1 is not None) might not hold. (tmp.py@35.17)', 'Verification took 1.96 seconds.']\n",
      "Errors:\n",
      "The precondition of method join_lists_helper might not hold. There might be insufficient permission to access is_list(head1). (tmp.py@27.11)\n",
      "The precondition of method join_lists_helper might not hold. Assertion (head1 is not None) might not hold. (tmp.py@35.17)\n"
     ]
    }
   ],
   "source": [
    "\n",
    "results:dict[str,bool] = {}\n",
    "for example in examples:\n",
    "    print(\"Running example:\", example)\n",
    "    response = openai.ChatCompletion.create(\n",
    "        model=\"gpt-3.5-turbo\",\n",
    "        messages=eval.get_few_shot_prompt(example),\n",
    "    )\n",
    "    program_snippet = response[\"choices\"][0][\"message\"][\"content\"]\n",
    "    print(\"Generated program from GPT:\")\n",
    "    print(program_snippet)\n",
    "    print(\"=====================================\")\n",
    "    print(\"Verification result:\")\n",
    "    result = eval.run_single(\"list\", program_snippet)\n",
    "    print(result)\n",
    "    results[example] = True if result == \"Verification successful\" else False"
   ]
  },
  {
   "cell_type": "code",
   "execution_count": 5,
   "metadata": {},
   "outputs": [
    {
     "data": {
      "text/plain": [
       "{'prepend': False,\n",
       " 'append': False,\n",
       " 'find': False,\n",
       " 'find_iter': False,\n",
       " 'remove': False,\n",
       " 'join_lists': False}"
      ]
     },
     "execution_count": 5,
     "metadata": {},
     "output_type": "execute_result"
    }
   ],
   "source": [
    "results"
   ]
  }
 ],
 "metadata": {
  "kernelspec": {
   "display_name": "l4vp",
   "language": "python",
   "name": "python3"
  },
  "language_info": {
   "codemirror_mode": {
    "name": "ipython",
    "version": 3
   },
   "file_extension": ".py",
   "mimetype": "text/x-python",
   "name": "python",
   "nbconvert_exporter": "python",
   "pygments_lexer": "ipython3",
   "version": "3.11.5"
  },
  "orig_nbformat": 4
 },
 "nbformat": 4,
 "nbformat_minor": 2
}
