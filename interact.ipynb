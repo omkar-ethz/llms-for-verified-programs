{
 "cells": [
  {
   "cell_type": "code",
   "execution_count": 2,
   "metadata": {},
   "outputs": [],
   "source": [
    "import evaluation\n",
    "import data\n",
    "import interactive_widget"
   ]
  },
  {
   "cell_type": "code",
   "execution_count": 17,
   "metadata": {},
   "outputs": [],
   "source": [
    "dataset = data.Data(\"config.json\", \"nagini_examples/test_prepend_1\")\n",
    "dataset = dataset.clone(\"test_prepend_1-3.5_with_err_examples\")\n",
    "ev1 = evaluation.Evaluation(dataset, \"gpt-3.5-turbo\")\n",
    "interactive = interactive_widget.PromptAndVerifyWidget(ev1, \"prepend\")"
   ]
  },
  {
   "cell_type": "code",
   "execution_count": 18,
   "metadata": {},
   "outputs": [
    {
     "name": "stdout",
     "output_type": "stream",
     "text": [
      "Generated program from GPT:\n",
      "def prepend(head: Node, val: int) -> Node:\n",
      "    \"\"\"Prepends a new node with the given value to the list.\"\"\"\n",
      "    Requires(is_list(head))\n",
      "    Ensures(is_list(Result()))\n",
      "    n = Node(val, head)\n",
      "    Fold(is_list(n))\n",
      "    return n\n",
      "=====================================\n",
      "response ['', 'Verification successful', 'Verification took 2.31 seconds.']\n"
     ]
    }
   ],
   "source": [
    "interactive.run_interactive()"
   ]
  },
  {
   "cell_type": "code",
   "execution_count": 19,
   "metadata": {
    "scrolled": true
   },
   "outputs": [
    {
     "data": {
      "application/vnd.jupyter.widget-view+json": {
       "model_id": "503fca000bc54f63b262a36cb18dec65",
       "version_major": 2,
       "version_minor": 0
      },
      "text/plain": [
       "VBox(children=(Output(layout=Layout(height='300px', overflow='scroll', width='100%'), outputs=({'name': 'stdou…"
      ]
     },
     "metadata": {},
     "output_type": "display_data"
    }
   ],
   "source": [
    "display(interactive.widget)"
   ]
  },
  {
   "cell_type": "code",
   "execution_count": 15,
   "metadata": {
    "scrolled": true
   },
   "outputs": [
    {
     "data": {
      "text/plain": [
       "[{'role': 'system',\n",
       "  'content': 'You are an assistant that given a python program, \\nannotates it with appropriate Nagini annotations so that verification succeeds.\\n\\nNagini is a static verifier for Python. \\nOur aim is to given a statically typed Python program, \\nto come up with appropriate preconditions (e.g. Requires(is_list(head))), postcondition (e.g. Ensures(is_list(Result()))),\\nloop invariants (Invariant(<assertion>)), predicate fold/unfolds (e.g. Fold(is_list(head)) / Unfold(is_list(head))) \\nso that the program verifies correctly. Unfolding(e1, e2) evaluates e2 in the context where predicate e1 is temporarily unfolded.\\n\\nThe user will provide Python code and the verification errors. \\nYou must add or change the specifications so that the resulting code verifies correctly. \\nReturn only the code without any explanation or wrapping.\\n\\nAt the end, the user may provide multiple {program, verification errors} for the same code.\\nYou must learn from the errors and return a correctly verifying code (again without explanation or wrapping)\\n'},\n",
       " {'role': 'user',\n",
       "  'content': 'def append(head: Node, val: int) -> None:\\n    \"\"\"Appends a new node with the given value to the end of the list.\"\"\"\\n    if head.next is None:\\n        n = Node(val)\\n        head.next = n\\n    else:\\n        append(head.next, val)\\n\\nVerification failed: Conditional statement might fail. There might be insufficient permission to access head.next. at line 3.7'},\n",
       " {'role': 'assistant',\n",
       "  'content': 'def append(head: Node, val: int) -> None:\\n    \"\"\"Appends a new node with the given value to the end of the list.\"\"\"\\n    Requires(is_list(head))\\n    Ensures(is_list(head))\\n    Unfold(is_list(head))\\n    if head.next is None:\\n        n = Node(val)\\n        Fold(is_list(n))\\n        head.next = n\\n    else:\\n        append(head.next, val)\\n    Fold(is_list(head))'},\n",
       " {'role': 'user',\n",
       "  'content': 'def find(head: Optional[Node], val: int) -> Optional[Node]:\\n    \"\"\"Returns the first node with the given value, or None if not found.\"\"\"\\n    if head is None:\\n        return None\\n    if head.val == val:\\n        return head\\n    result = find(head.next, val)\\n    return result\\n\\nVerification failed: Conditional statement might fail. There might be insufficient permission to access head.val. at line 5.7'},\n",
       " {'role': 'assistant',\n",
       "  'content': 'def find(head: Optional[Node], val: int) -> Optional[Node]:\\n    \"\"\"Returns the first node with the given value, or None if not found.\"\"\"\\n    Requires(Implies(head is not None, is_list(head)))\\n    Ensures(Implies(head is not None, is_list(head)))\\n    if head is None:\\n        return None\\n    if Unfolding(is_list(head), head.val) == val:\\n        return head\\n    Unfold(is_list(head))\\n    result = find(head.next, val)\\n    Fold(is_list(head))\\n    return result\\n'},\n",
       " {'role': 'user',\n",
       "  'content': 'def find_iter(head: Node, val: int) -> Optional[Node]:\\n    \"\"\"Returns the first node with the given value, or None if not found.\"\"\"\\n    ptr = head  # type: Optional[Node]\\n    while ptr is not None:\\n        if ptr.val == val:\\n            return ptr\\n        ptr = ptr.next\\n    return None\\n\\nVerification failed: Conditional statement might fail. There might be insufficient permission to access ptr.val. at line 5.11'},\n",
       " {'role': 'assistant',\n",
       "  'content': 'def find_iter(head: Node, val: int) -> Optional[Node]:\\n    \"\"\"Returns the first node with the given value, or None if not found.\"\"\"\\n    Requires(is_list(head))\\n    Ensures(Implies(Result() is not None, is_list(Result())))\\n    ptr = head  # type: Optional[Node]\\n    while ptr is not None:\\n        Invariant(Implies(ptr is not None, is_list(ptr)))\\n        Unfold(is_list(ptr))\\n        if ptr.val == val:\\n            Fold(is_list(ptr))\\n            return ptr\\n        ptr = ptr.next\\n    return None\\n'},\n",
       " {'role': 'user',\n",
       "  'content': 'def remove(head: Node, val: int) -> Optional[Node]:\\n    \"\"\"Removes the first node with the given value from the list.\"\"\"\\n    if head.val == val:\\n        return head.next\\n    if head.next is None:\\n        return head\\n    head.next = remove(head.next, val)\\n    return head\\n\\nVerification failed: Conditional statement might fail. There might be insufficient permission to access head.val. at line 3.7'},\n",
       " {'role': 'assistant',\n",
       "  'content': 'def remove(head: Node, val: int) -> Optional[Node]:\\n    \"\"\"Removes the first node with the given value from the list.\"\"\"\\n    Requires(is_list(head))\\n    Ensures(Implies(Result() is not None, is_list(Result())))\\n\\n    Unfold(is_list(head))\\n    if head.val == val:\\n        return head.next\\n    if head.next is None:\\n        Fold(is_list(head))\\n        return head\\n    head.next = remove(head.next, val)\\n    Fold(is_list(head))\\n    return head\\n'},\n",
       " {'role': 'user',\n",
       "  'content': 'def join_lists(head1: Optional[Node], head2: Optional[Node]) -> Optional[Node]:\\n    \"\"\"Returns the head of the list obtained by joining the two lists.\"\"\"\\n    if head1 is None:\\n        return head2\\n    if head2 is None:\\n        return head1\\n    head1.next = join_lists(head1.next, head2)\\n    return head1\\n\\nVerification failed: Method call might fail. There might be insufficient permission to access head1.next. at line 7.17'},\n",
       " {'role': 'assistant',\n",
       "  'content': 'def join_lists(head1: Optional[Node], head2: Optional[Node]) -> Optional[Node]:\\n    \"\"\"Returns the head of the list obtained by joining the two lists.\"\"\"\\n    Requires(Implies(head1 is not None, is_list(head1)))\\n    Requires(Implies(head2 is not None, is_list(head2)))\\n    Ensures(Implies(Result() is not None, is_list(Result())))\\n    if head1 is None:\\n        return head2\\n    if head2 is None:\\n        return head1\\n    Unfold(is_list(head1))\\n    head1.next = join_lists(head1.next, head2)\\n    Fold(is_list(head1))\\n    return head1\\n'},\n",
       " {'role': 'user',\n",
       "  'content': 'def reverseList(head: Node) -> Optional[Node]:\\n    \"\"\"Reverses the list and returns the new head.\"\"\"\\n    if head.next is None:\\n        return head\\n    prev = None # type: Optional[Node]\\n    ptr = head # type: Optional[Node]\\n    while ptr != None:\\n        tmp = ptr.next\\n        ptr.next = prev\\n        prev = ptr\\n        ptr = tmp\\n    return prev\\n\\nVerification failed: Conditional statement might fail. There might be insufficient permission to access head.next. at line 3.7'},\n",
       " {'role': 'assistant',\n",
       "  'content': 'def reverseList(head: Node) -> Optional[Node]:\\n    \"\"\"Reverses the list and returns the new head.\"\"\"\\n    Requires(is_list(head))\\n    Ensures(Implies(Result() is not None, is_list(Result())))\\n    \\n    Unfold(is_list(head))\\n    if head.next is None:\\n        Fold(is_list(head))\\n        return head\\n    Fold(is_list(head))\\n    prev = None # type: Optional[Node]\\n    ptr = head # type: Optional[Node]\\n    while ptr != None:\\n        Invariant(Implies(ptr is not None, is_list(ptr)))\\n        Invariant(Implies(prev is not None, is_list(prev)))\\n        Unfold(is_list(ptr))\\n        tmp = ptr.next\\n        ptr.next = prev\\n        prev = ptr\\n        Fold(is_list(ptr))\\n        ptr = tmp\\n    return prev\\n'},\n",
       " {'role': 'user',\n",
       "  'content': 'def prepend(head: Node, val: int) -> Node:\\n    \"\"\"Prepends a new node with the given value to the list.\"\"\"\\n    Ensures(is_list(Result()))\\n    n = Node(val, head)\\n    return n\\n\\nVerification failed: Postcondition of prepend might not hold. There might be insufficient permission to access is_list(Result()). at line 3.12'},\n",
       " {'role': 'assistant',\n",
       "  'content': 'def prepend(head: Node, val: int) -> Node:\\n    \"\"\"Prepends a new node with the given value to the list.\"\"\"\\n    Requires(is_list(head))\\n    Ensures(is_list(Result()))\\n    n = Node(val, head)\\n    Fold(is_list(head))\\n    return n'},\n",
       " {'role': 'user',\n",
       "  'content': 'def prepend(head: Node, val: int) -> Node:\\n    \"\"\"Prepends a new node with the given value to the list.\"\"\"\\n    Requires(is_list(head))\\n    Ensures(is_list(Result()))\\n    n = Node(val, head)\\n    Fold(is_list(head))\\n    return n\\nVerification failed: Fold might fail. There might be insufficient permission to access head.val. at line 6.4'},\n",
       " {'role': 'assistant',\n",
       "  'content': 'def prepend(head: Node, val: int) -> Node:\\n    \"\"\"Prepends a new node with the given value to the list.\"\"\"\\n    Requires(is_list(head))\\n    Ensures(is_list(Result()))\\n    n = Node(val, head)\\n    Fold(is_list(head))\\n    Fold(is_list(n))\\n    return n'},\n",
       " {'role': 'user',\n",
       "  'content': 'def prepend(head: Node, val: int) -> Node:\\n    \"\"\"Prepends a new node with the given value to the list.\"\"\"\\n    Requires(is_list(head))\\n    Ensures(is_list(Result()))\\n    n = Node(val, head)\\n    Fold(is_list(head))\\n    Fold(is_list(n))\\n    return n\\nVerification failed: Fold might fail. There might be insufficient permission to access head.val. at line 6.4'}]"
      ]
     },
     "execution_count": 15,
     "metadata": {},
     "output_type": "execute_result"
    }
   ],
   "source": [
    "interactive.prompt"
   ]
  },
  {
   "cell_type": "code",
   "execution_count": null,
   "metadata": {},
   "outputs": [],
   "source": []
  }
 ],
 "metadata": {
  "kernelspec": {
   "display_name": "Python 3 (ipykernel)",
   "language": "python",
   "name": "python3"
  },
  "language_info": {
   "codemirror_mode": {
    "name": "ipython",
    "version": 3
   },
   "file_extension": ".py",
   "mimetype": "text/x-python",
   "name": "python",
   "nbconvert_exporter": "python",
   "pygments_lexer": "ipython3",
   "version": "3.12.0"
  }
 },
 "nbformat": 4,
 "nbformat_minor": 4
}
