{
 "cells": [
  {
   "cell_type": "code",
   "execution_count": 1,
   "metadata": {},
   "outputs": [],
   "source": [
    "import evaluation\n",
    "import data\n",
    "import interactive_widget"
   ]
  },
  {
   "cell_type": "code",
   "execution_count": 2,
   "metadata": {},
   "outputs": [
    {
     "name": "stdout",
     "output_type": "stream",
     "text": [
      "Generated program from GPT:\n",
      "def drop(head: Optional[Node], val: int) -> Optional[Node]:\n",
      "    \"\"\"Drops nodes until val is found and returns the list starting at val node, or None if not found.\"\"\"\n",
      "    Requires(Implies(head is not None, is_list(head)))\n",
      "    Ensures(Implies(Result() is not None, is_list(Result())))\n",
      "    if head is None:\n",
      "        return None\n",
      "    Unfold(is_list(head))\n",
      "    if head.val == val:\n",
      "        Fold(is_list(head))\n",
      "        return head\n",
      "    result = drop(head.next, val)\n",
      "    return result\n",
      "=====================================\n",
      "response ['', 'Verification successful', 'Verification took 1.88 seconds.']\n"
     ]
    }
   ],
   "source": [
    "dataset = data.Data(\"config.json\")\n",
    "dataset = dataset.clone(\"test_find\")\n",
    "ev1 = evaluation.Evaluation(dataset, \"gpt-4\")\n",
    "interactive = interactive_widget.PromptAndVerifyWidget(ev1, \"find\")"
   ]
  },
  {
   "cell_type": "code",
   "execution_count": 3,
   "metadata": {},
   "outputs": [
    {
     "name": "stdout",
     "output_type": "stream",
     "text": [
      "Generated program from GPT:\n",
      "def drop(head: Optional[Node], val: int) -> Optional[Node]:\n",
      "    \"\"\"Drops nodes until val is found and returns the list starting at val node, or None if not found.\"\"\"\n",
      "    Requires(Implies(head is not None, is_list(head)))\n",
      "    Ensures(Implies(Result() is not None, is_list(Result())))\n",
      "    if head is None:\n",
      "        return None\n",
      "    Unfold(is_list(head))\n",
      "    if head.val == val:\n",
      "        Fold(is_list(head))\n",
      "        return head\n",
      "    result = drop(head.next, val)\n",
      "    Fold(is_list(head))\n",
      "    return result\n",
      "=====================================\n",
      "response ['', 'Verification failed', 'Errors:', 'Fold might fail. There might be insufficient permission to access is_list(head.next). (tmp.py@32.4)', 'Verification took 2.22 seconds.']\n"
     ]
    }
   ],
   "source": [
    "interactive.run_interactive()"
   ]
  },
  {
   "cell_type": "code",
   "execution_count": 4,
   "metadata": {
    "scrolled": true
   },
   "outputs": [
    {
     "data": {
      "application/vnd.jupyter.widget-view+json": {
       "model_id": "87c1211898f649cda410113fe688f6d6",
       "version_major": 2,
       "version_minor": 0
      },
      "text/plain": [
       "VBox(children=(Output(layout=Layout(height='300px', overflow='scroll', width='100%'), outputs=({'name': 'stdou…"
      ]
     },
     "metadata": {},
     "output_type": "display_data"
    }
   ],
   "source": [
    "display(interactive.widget)"
   ]
  },
  {
   "cell_type": "code",
   "execution_count": null,
   "metadata": {
    "scrolled": true
   },
   "outputs": [],
   "source": [
    "interactive.prompt"
   ]
  }
 ],
 "metadata": {
  "kernelspec": {
   "display_name": "Python 3 (ipykernel)",
   "language": "python",
   "name": "python3"
  },
  "language_info": {
   "codemirror_mode": {
    "name": "ipython",
    "version": 3
   },
   "file_extension": ".py",
   "mimetype": "text/x-python",
   "name": "python",
   "nbconvert_exporter": "python",
   "pygments_lexer": "ipython3",
   "version": "3.12.0"
  }
 },
 "nbformat": 4,
 "nbformat_minor": 4
}
