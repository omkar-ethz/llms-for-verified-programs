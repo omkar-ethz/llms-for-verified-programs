{
 "cells": [
  {
   "cell_type": "code",
   "execution_count": 1,
   "metadata": {},
   "outputs": [
    {
     "name": "stdout",
     "output_type": "stream",
     "text": [
      "sagemaker.config INFO - Not applying SDK defaults from location: /etc/xdg/sagemaker/config.yaml\n",
      "sagemaker.config INFO - Not applying SDK defaults from location: /home/omkar/.config/sagemaker/config.yaml\n"
     ]
    }
   ],
   "source": [
    "import evaluation\n",
    "import data\n",
    "import interactive_widget"
   ]
  },
  {
   "cell_type": "code",
   "execution_count": 2,
   "metadata": {},
   "outputs": [
    {
     "name": "stdout",
     "output_type": "stream",
     "text": [
      "response ['', 'Verification failed', 'Errors:', 'Conditional statement might fail. There might be insufficient permission to access head.next. (tmp.py@74.7)', 'Verification took 3.27 seconds.']\n"
     ]
    }
   ],
   "source": [
    "dataset = data.Data(\"config.json\", \"nagini_examples/list_llama_incremental\")\n",
    "# dataset = dataset.clone(\"test_find\")\n",
    "ev1 = evaluation.Evaluation(dataset, \"gpt-4\")\n",
    "interactive = interactive_widget.PromptAndVerifyWidget(ev1, \"prepend\", key=\"list\")"
   ]
  },
  {
   "cell_type": "code",
   "execution_count": 5,
   "metadata": {},
   "outputs": [],
   "source": [
    "ev2 = evaluation.Evaluation(data.Data(\"config.json\", \"nagini_examples/tree\"))\n",
    "interactive.ev = ev2 # Change the evaluation object\n",
    "interactive.key = \"tree\" # Change the key"
   ]
  },
  {
   "cell_type": "code",
   "execution_count": 3,
   "metadata": {},
   "outputs": [],
   "source": [
    "ev2 = evaluation.Evaluation(data.Data(\"config.json\", \"nagini_examples/list_mar13_finetune\"))\n",
    "interactive.ev = ev2 # Change the evaluation object\n",
    "interactive.key = \"list\" # Change the key"
   ]
  },
  {
   "cell_type": "code",
   "execution_count": 5,
   "metadata": {},
   "outputs": [],
   "source": [
    "ev3 = evaluation.Evaluation(data.Data(\"config.json\", \"nagini_examples/lseg_finetune\"))\n",
    "interactive.ev = ev3 # Change the evaluation object\n",
    "interactive.key = \"lseg\" # Change the key"
   ]
  },
  {
   "cell_type": "code",
   "execution_count": 4,
   "metadata": {},
   "outputs": [
    {
     "name": "stdout",
     "output_type": "stream",
     "text": [
      "Generated program from GPT:\n",
      "def prepend(head: Optional[Node], val: int) -> Node:\n",
      "    \"\"\"Prepends a new node with the given value to the list.\"\"\"\n",
      "    n = Node(val, head)\n",
      "    Ensures(is_list(n))\n",
      "    return n\n",
      "=====================================\n",
      "response ['', 'Translation failed', 'Invalid program: invalid.contract.position (/home/omkar/ethz/hs23/thesis/llms-for-verified-programs/nagini_examples/list_mar13_finetune/tmp.py@24.4)']\n"
     ]
    }
   ],
   "source": [
    "interactive.run_interactive()"
   ]
  },
  {
   "cell_type": "code",
   "execution_count": 5,
   "metadata": {
    "scrolled": true
   },
   "outputs": [
    {
     "data": {
      "application/vnd.jupyter.widget-view+json": {
       "model_id": "1528860824a2483b8f83134edee57e8e",
       "version_major": 2,
       "version_minor": 0
      },
      "text/plain": [
       "VBox(children=(Output(layout=Layout(height='300px', overflow='scroll', width='100%'), outputs=({'name': 'stdou…"
      ]
     },
     "metadata": {},
     "output_type": "display_data"
    }
   ],
   "source": [
    "display(interactive.widget)"
   ]
  },
  {
   "cell_type": "code",
   "execution_count": null,
   "metadata": {
    "scrolled": true
   },
   "outputs": [],
   "source": [
    "interactive.prompt"
   ]
  }
 ],
 "metadata": {
  "kernelspec": {
   "display_name": "Python 3 (ipykernel)",
   "language": "python",
   "name": "python3"
  },
  "language_info": {
   "codemirror_mode": {
    "name": "ipython",
    "version": 3
   },
   "file_extension": ".py",
   "mimetype": "text/x-python",
   "name": "python",
   "nbconvert_exporter": "python",
   "pygments_lexer": "ipython3",
   "version": "3.12.1"
  }
 },
 "nbformat": 4,
 "nbformat_minor": 4
}
