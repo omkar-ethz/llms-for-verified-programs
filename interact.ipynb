{
 "cells": [
  {
   "cell_type": "code",
   "execution_count": 12,
   "metadata": {},
   "outputs": [],
   "source": [
    "import evaluation\n",
    "import data\n",
    "import interactive_widget"
   ]
  },
  {
   "cell_type": "code",
   "execution_count": 15,
   "metadata": {},
   "outputs": [
    {
     "name": "stdout",
     "output_type": "stream",
     "text": [
      "response ['', 'Verification failed', 'Errors:', 'Loop invariant might not hold on entry. There might be insufficient permission to access lseg(prev, None). (tmp.py@28.18)', 'Verification took 1.89 seconds.']\n",
      "response ['', 'Verification successful', 'Verification took 1.73 seconds.']\n",
      "response ['', 'Verification successful', 'Verification took 1.99 seconds.']\n"
     ]
    }
   ],
   "source": [
    "dataset = data.Data(\"config.json\", \"nagini_examples/lseg_mar13_finetune\")\n",
    "# dataset = dataset.clone(\"test_find\")\n",
    "ev1 = evaluation.Evaluation(dataset, \"gpt-4\")\n",
    "interactive = interactive_widget.PromptAndVerifyWidget(ev1, \"contains_iter\", key=\"lseg\")"
   ]
  },
  {
   "cell_type": "code",
   "execution_count": 10,
   "metadata": {},
   "outputs": [],
   "source": [
    "ev2 = evaluation.Evaluation(data.Data(\"config.json\", \"nagini_examples/tree_master_finetune\"))\n",
    "interactive.ev = ev2 # Change the evaluation object\n",
    "interactive.key = \"tree\" # Change the key"
   ]
  },
  {
   "cell_type": "code",
   "execution_count": 6,
   "metadata": {},
   "outputs": [],
   "source": [
    "ev2 = evaluation.Evaluation(data.Data(\"config.json\", \"nagini_examples/list_mar13_finetune\"))\n",
    "interactive.ev = ev2 # Change the evaluation object\n",
    "interactive.key = \"list\" # Change the key"
   ]
  },
  {
   "cell_type": "code",
   "execution_count": 5,
   "metadata": {},
   "outputs": [],
   "source": [
    "ev3 = evaluation.Evaluation(data.Data(\"config.json\", \"nagini_examples/lseg_finetune\"))\n",
    "interactive.ev = ev3 # Change the evaluation object\n",
    "interactive.key = \"lseg\" # Change the key"
   ]
  },
  {
   "cell_type": "code",
   "execution_count": 16,
   "metadata": {},
   "outputs": [
    {
     "name": "stdout",
     "output_type": "stream",
     "text": [
      "Generated program from GPT:\n",
      "def contains_iter(first: Node, last: Optional[Node], val: int) -> bool:\n",
      "    \"\"\"Check if the list contains a node with value val.\"\"\"\n",
      "    Requires(lseg(first, last))\n",
      "    Ensures(lseg(first, last))\n",
      "    ptr = first  # type: Optional[Node]\n",
      "    Fold(lseg(first, ptr))\n",
      "    result = False\n",
      "    while ptr is not None and ptr is not last:\n",
      "        Invariant(lseg(first, ptr))\n",
      "        Invariant(lseg(ptr, last))\n",
      "        if Unfolding(lseg(ptr, last), ptr.val) == val:\n",
      "            result = True\n",
      "            break\n",
      "        Unfold(lseg(ptr, last))\n",
      "        tmp = ptr\n",
      "        ptr = ptr.next\n",
      "        Fold(lseg(ptr, ptr))\n",
      "        Fold(lseg(tmp, ptr))\n",
      "        join(first, tmp, ptr)\n",
      "    join(first, ptr, last)\n",
      "    return result\n",
      "\n",
      "=====================================\n",
      "response ['', 'Translation failed', \"Type error: Name 'join' is not defined (/home/omkar/ethz/hs23/thesis/llms-for-verified-programs/nagini_examples/lseg_mar13_finetune/tmp.py@36.0)\", \"Type error: Name 'join' is not defined (/home/omkar/ethz/hs23/thesis/llms-for-verified-programs/nagini_examples/lseg_mar13_finetune/tmp.py@37.0)\"]\n"
     ]
    }
   ],
   "source": [
    "interactive.run_interactive()"
   ]
  },
  {
   "cell_type": "code",
   "execution_count": 17,
   "metadata": {
    "scrolled": true
   },
   "outputs": [
    {
     "data": {
      "application/vnd.jupyter.widget-view+json": {
       "model_id": "5c6e88cd244e4691a48e2cbb00b47e0b",
       "version_major": 2,
       "version_minor": 0
      },
      "text/plain": [
       "VBox(children=(Output(layout=Layout(height='300px', overflow='scroll', width='100%'), outputs=({'name': 'stdou…"
      ]
     },
     "metadata": {},
     "output_type": "display_data"
    }
   ],
   "source": [
    "display(interactive.widget)"
   ]
  },
  {
   "cell_type": "code",
   "execution_count": null,
   "metadata": {
    "scrolled": true
   },
   "outputs": [],
   "source": [
    "interactive.prompt"
   ]
  }
 ],
 "metadata": {
  "kernelspec": {
   "display_name": "Python 3 (ipykernel)",
   "language": "python",
   "name": "python3"
  },
  "language_info": {
   "codemirror_mode": {
    "name": "ipython",
    "version": 3
   },
   "file_extension": ".py",
   "mimetype": "text/x-python",
   "name": "python",
   "nbconvert_exporter": "python",
   "pygments_lexer": "ipython3",
   "version": "3.12.1"
  }
 },
 "nbformat": 4,
 "nbformat_minor": 4
}
