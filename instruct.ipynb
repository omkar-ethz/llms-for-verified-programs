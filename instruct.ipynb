{
 "cells": [
  {
   "cell_type": "code",
   "execution_count": 1,
   "metadata": {},
   "outputs": [],
   "source": [
    "import os\n",
    "import dotenv\n",
    "import openai\n",
    "import evaluation\n",
    "dotenv.load_dotenv()\n",
    "openai.api_key = os.getenv(\"GPT_SECRET_KEY\")"
   ]
  },
  {
   "cell_type": "code",
   "execution_count": 16,
   "metadata": {},
   "outputs": [],
   "source": [
    "def _read_file(path: str) -> str:\n",
    "    with open(path, encoding=\"utf-8\") as f:\n",
    "        return f.read()\n",
    "\n",
    "response = openai.Completion.create(\n",
    "  model=\"gpt-3.5-turbo-instruct\",\n",
    "  prompt=_read_file(\"nagini_examples/cot_partial_prompt.txt\"),\n",
    "  max_tokens=500,\n",
    "  suffix=\"-------------------\"\n",
    ")"
   ]
  },
  {
   "cell_type": "code",
   "execution_count": 17,
   "metadata": {},
   "outputs": [
    {
     "name": "stdout",
     "output_type": "stream",
     "text": [
      "{\n",
      "  \"id\": \"cmpl-8IOYIPTtkFXzAxFMuGthSUw2xtHm0\",\n",
      "  \"object\": \"text_completion\",\n",
      "  \"created\": 1699394974,\n",
      "  \"model\": \"gpt-3.5-turbo-instruct\",\n",
      "  \"choices\": [\n",
      "    {\n",
      "      \"text\": \"# In order to address this new verification error, we need to add an Unfold statement at line 15\\n# This will allow us to access the is_list(ptr) predicate in every iteration of the loop\\n# We also need to add an Unfold statement at line 19 to access is_list(prev) when assigning the value of ptr to prev\\n# Additionally, we need to add a Fold statement after line 19 to ensure we are still verifying the is_list(prev) predicate after assignment\\n# Then, we add a Fold statement at line 21 to ensure that we are still verifying the is_list(ptr) predicate after assignment\\n# Finally, we need to add a Fold statement after line 23 to ensure that we are verifying the is_list(ptr) predicate before returning\\ndef reverseList(head: Node) -> Optional[Node]:\\n    \\\"\\\"\\\"Reverses the list and returns the new head.\\\"\\\"\\\"\\n    Requires(is_list(head))\\n    Ensures(Implies(Result() is not None, is_list(Result())))\\n    \\n    Unfold(is_list(head))\\n    if head.next is None:\\n        Fold(is_list(head))\\n        return head\\n    prev = None # type: Optional[Node]\\n    ptr = head # type: Optional[Node]\\n    while ptr != None:\\n        Invariant(Implies(prev is not None, is_list(prev)))\\n        Invariant(Implies(ptr is not None, is_list(ptr)))\\n        Unfold(is_list(prev))\\n        Unfold(is_list(ptr))\\n        tmp = prev\\n        Unfold(is_list(tmp))\\n        Invariant(Implies(tmp is not None, is_list(tmp)))\\n        ptr.next = tmp\\n        prev = ptr\\n        Fold(is_list(prev))\\n        Fold(is_list(ptr))\\n        Fold(is_list(tmp))\\n        ptr = ptr.next\\n    Fold(is_list(ptr))\\n    return prev\\n\\n\",\n",
      "      \"index\": 0,\n",
      "      \"logprobs\": null,\n",
      "      \"finish_reason\": \"stop\"\n",
      "    }\n",
      "  ],\n",
      "  \"usage\": {\n",
      "    \"prompt_tokens\": 2357,\n",
      "    \"completion_tokens\": 374,\n",
      "    \"total_tokens\": 2731\n",
      "  }\n",
      "}\n",
      "# In order to address this new verification error, we need to add an Unfold statement at line 15\n",
      "# This will allow us to access the is_list(ptr) predicate in every iteration of the loop\n",
      "# We also need to add an Unfold statement at line 19 to access is_list(prev) when assigning the value of ptr to prev\n",
      "# Additionally, we need to add a Fold statement after line 19 to ensure we are still verifying the is_list(prev) predicate after assignment\n",
      "# Then, we add a Fold statement at line 21 to ensure that we are still verifying the is_list(ptr) predicate after assignment\n",
      "# Finally, we need to add a Fold statement after line 23 to ensure that we are verifying the is_list(ptr) predicate before returning\n",
      "def reverseList(head: Node) -> Optional[Node]:\n",
      "    \"\"\"Reverses the list and returns the new head.\"\"\"\n",
      "    Requires(is_list(head))\n",
      "    Ensures(Implies(Result() is not None, is_list(Result())))\n",
      "    \n",
      "    Unfold(is_list(head))\n",
      "    if head.next is None:\n",
      "        Fold(is_list(head))\n",
      "        return head\n",
      "    prev = None # type: Optional[Node]\n",
      "    ptr = head # type: Optional[Node]\n",
      "    while ptr != None:\n",
      "        Invariant(Implies(prev is not None, is_list(prev)))\n",
      "        Invariant(Implies(ptr is not None, is_list(ptr)))\n",
      "        Unfold(is_list(prev))\n",
      "        Unfold(is_list(ptr))\n",
      "        tmp = prev\n",
      "        Unfold(is_list(tmp))\n",
      "        Invariant(Implies(tmp is not None, is_list(tmp)))\n",
      "        ptr.next = tmp\n",
      "        prev = ptr\n",
      "        Fold(is_list(prev))\n",
      "        Fold(is_list(ptr))\n",
      "        Fold(is_list(tmp))\n",
      "        ptr = ptr.next\n",
      "    Fold(is_list(ptr))\n",
      "    return prev\n",
      "\n",
      "\n"
     ]
    }
   ],
   "source": [
    "print(response)\n",
    "print(response[\"choices\"][0][\"text\"])"
   ]
  },
  {
   "cell_type": "code",
   "execution_count": 12,
   "metadata": {},
   "outputs": [
    {
     "name": "stdout",
     "output_type": "stream",
     "text": [
      "response ['', 'Verification failed', 'Errors:', 'Conditional statement might fail. There might be insufficient permission to access head.next. (tmp.py@25.7)', 'Verification took 2.61 seconds.']\n"
     ]
    },
    {
     "data": {
      "text/plain": [
       "VerificationResult(status='Verification failed', errors='Conditional statement might fail. There might be insufficient permission to access head.next.', line_no='5.7')"
      ]
     },
     "execution_count": 12,
     "metadata": {},
     "output_type": "execute_result"
    }
   ],
   "source": [
    "evaluation = evaluation.Evaluation(\"config_cot.json\")\n",
    "program = \"\"\"\n",
    "def append(head: Node, val: int) -> None:\n",
    "    Requires(is_list(head))\n",
    "    Ensures(is_list(head))\n",
    "    if head.next is None:\n",
    "        Unfold(is_list(head))\n",
    "        n = Node(val)\n",
    "        Fold(is_list(n))\n",
    "        head.next = n\n",
    "        Fold(is_list(head))\n",
    "    else:\n",
    "        Unfold(is_list(head))\n",
    "        append(head.next, val)\n",
    "        Fold(is_list(head))\n",
    "\"\"\"\n",
    "evaluation._verify_program_snippet(\"list\", program)"
   ]
  },
  {
   "cell_type": "code",
   "execution_count": 13,
   "metadata": {},
   "outputs": [
    {
     "name": "stdout",
     "output_type": "stream",
     "text": [
      "Verification failed: Conditional statement might fail. There might be insufficient permission to access head.next. at line 5.7\n"
     ]
    }
   ],
   "source": [
    "print(_)"
   ]
  }
 ],
 "metadata": {
  "kernelspec": {
   "display_name": "l4vp",
   "language": "python",
   "name": "python3"
  },
  "language_info": {
   "codemirror_mode": {
    "name": "ipython",
    "version": 3
   },
   "file_extension": ".py",
   "mimetype": "text/x-python",
   "name": "python",
   "nbconvert_exporter": "python",
   "pygments_lexer": "ipython3",
   "version": "3.12.0"
  }
 },
 "nbformat": 4,
 "nbformat_minor": 2
}
