{
 "cells": [
  {
   "cell_type": "markdown",
   "metadata": {},
   "source": [
    "#### Partially verified\n",
    "Few shot with errors and multi round"
   ]
  },
  {
   "cell_type": "code",
   "execution_count": 1,
   "metadata": {},
   "outputs": [
    {
     "data": {
      "text/plain": [
       "[{'role': 'system',\n",
       "  'content': 'You are an assistant that given a python program, \\nannotates it with appropriate Nagini annotations so that verification succeeds.\\n\\nNagini is a static verifier for Python. \\nOur aim is to given a statically typed Python program, \\nto come up with appropriate preconditions (e.g. Requires(is_list(head))), postcondition (e.g. Ensures(is_list(Result()))),\\nloop invariants (Invariant(<assertion>)), predicate fold/unfolds (e.g. Fold(is_list(head)) / Unfold(is_list(head))) \\nso that the program verifies correctly.\\nThe user will provide Python code and the verification errors. \\nYou must add or change the specifications so that the resulting code verifies correctly. \\nFirst, think step-by-step: explain your reasoning as python code comments e.g.\\n# Based on the verification error there might be insufficient permissions ...\\n# Hence, I should add an Unfold at line 7 ...\\nFollowing the comments, return only the code without any explanation or wrapping. e.g.\\ndef append(head: Node, val: int) -> None:\\n    \"\"\"Appends a new node with the given value to the end of the list.\"\"\"\\n    Requires(is_list(head))\\n    Ensures(is_list(head))\\n....\\n'},\n",
       " {'role': 'user',\n",
       "  'content': 'def prepend(head: Node, val: int) -> Node:\\n    \"\"\"Prepends a new node with the given value to the list.\"\"\"\\n    Requires(is_list(head))\\n    Ensures(is_list(Result()))\\n    n = Node(val, head)\\n    return n\\n\\nVerification failed: Postcondition of prepend might not hold. There might be insufficient permission to access is_list(Result()). at line 4.12'},\n",
       " {'role': 'assistant',\n",
       "  'content': 'def prepend(head: Node, val: int) -> Node:\\n    \"\"\"Prepends a new node with the given value to the list.\"\"\"\\n    Requires(is_list(head))\\n    Ensures(is_list(Result()))\\n    n = Node(val, head)\\n    Fold(is_list(n))\\n    return n\\n'},\n",
       " {'role': 'user',\n",
       "  'content': 'def find(head: Optional[Node], val: int) -> Optional[Node]:\\n    \"\"\"Returns the first node with the given value, or None if not found.\"\"\"\\n    Requires(Implies(head is not None, is_list(head)))\\n    Ensures(Implies(head is not None, is_list(head)))\\n    if head is None:\\n        return None\\n    if Unfolding(is_list(head), head.val) == val:\\n        return head\\n    result = find(head.next, val)\\n    Fold(is_list(head))\\n    return result\\n\\nVerification failed: Method call might fail. There might be insufficient permission to access head.next. at line 9.13'},\n",
       " {'role': 'assistant',\n",
       "  'content': 'def find(head: Optional[Node], val: int) -> Optional[Node]:\\n    \"\"\"Returns the first node with the given value, or None if not found.\"\"\"\\n    Requires(Implies(head is not None, is_list(head)))\\n    Ensures(Implies(head is not None, is_list(head)))\\n    if head is None:\\n        return None\\n    if Unfolding(is_list(head), head.val) == val:\\n        return head\\n    Unfold(is_list(head))\\n    result = find(head.next, val)\\n    Fold(is_list(head))\\n    return result\\n'},\n",
       " {'role': 'user',\n",
       "  'content': 'def find_iter(head: Node, val: int) -> Optional[Node]:\\n    \"\"\"Returns the first node with the given value, or None if not found.\"\"\"\\n    Requires(is_list(head))\\n    Ensures(Implies(Result() is not None, is_list(Result())))\\n    ptr = head  # type: Optional[Node]\\n    while ptr is not None:\\n        Invariant(Implies(ptr is not None, is_list(ptr)))\\n        if ptr.val == val:\\n            Fold(is_list(ptr))\\n            return ptr\\n        ptr = ptr.next\\n    return None\\n\\nVerification failed: Conditional statement might fail. There might be insufficient permission to access ptr.val. at line 9.11'},\n",
       " {'role': 'assistant',\n",
       "  'content': 'def find_iter(head: Node, val: int) -> Optional[Node]:\\n    \"\"\"Returns the first node with the given value, or None if not found.\"\"\"\\n    Requires(is_list(head))\\n    Ensures(Implies(Result() is not None, is_list(Result())))\\n    ptr = head  # type: Optional[Node]\\n    while ptr is not None:\\n        Invariant(Implies(ptr is not None, is_list(ptr)))\\n        Unfold(is_list(ptr))\\n        if ptr.val == val:\\n            Fold(is_list(ptr))\\n            return ptr\\n        ptr = ptr.next\\n    return None\\n'},\n",
       " {'role': 'user',\n",
       "  'content': 'def remove(head: Node, val: int) -> Optional[Node]:\\n    \"\"\"Removes the first node with the given value from the list.\"\"\"\\n    Requires(is_list(head))\\n    Ensures(Implies(Result() is not None, is_list(Result())))\\n\\n    Unfold(is_list(head))\\n    if head.val == val:\\n        return head.next\\n    if head.next is None:\\n        Fold(is_list(head))\\n        return head\\n    head.next = remove(head.next, val)\\n    return head\\n\\nVerification failed: Postcondition of remove might not hold. There might be insufficient permission to access is_list(Result()). at line 4.12'},\n",
       " {'role': 'assistant',\n",
       "  'content': 'def remove(head: Node, val: int) -> Optional[Node]:\\n    \"\"\"Removes the first node with the given value from the list.\"\"\"\\n    Requires(is_list(head))\\n    Ensures(Implies(Result() is not None, is_list(Result())))\\n\\n    Unfold(is_list(head))\\n    if head.val == val:\\n        return head.next\\n    if head.next is None:\\n        Fold(is_list(head))\\n        return head\\n    head.next = remove(head.next, val)\\n    Fold(is_list(head))\\n    return head\\n'},\n",
       " {'role': 'user',\n",
       "  'content': 'def join_lists(head1: Optional[Node], head2: Optional[Node]) -> Optional[Node]:\\n    \"\"\"Returns the head of the list obtained by joining the two lists.\"\"\"\\n    Requires(Implies(head1 is not None, is_list(head1)))\\n    Requires(Implies(head2 is not None, is_list(head2)))\\n    Ensures(Implies(Result() is not None, is_list(Result())))\\n    if head1 is None:\\n        return head2\\n    if head2 is None:\\n        return head1\\n    head1.next = join_lists(head1.next, head2)\\n    Fold(is_list(head1))\\n    return head1\\n\\nVerification failed: Method call might fail. There might be insufficient permission to access head1.next. at line 10.17'},\n",
       " {'role': 'assistant',\n",
       "  'content': 'def join_lists(head1: Optional[Node], head2: Optional[Node]) -> Optional[Node]:\\n    \"\"\"Returns the head of the list obtained by joining the two lists.\"\"\"\\n    Requires(Implies(head1 is not None, is_list(head1)))\\n    Requires(Implies(head2 is not None, is_list(head2)))\\n    Ensures(Implies(Result() is not None, is_list(Result())))\\n    if head1 is None:\\n        return head2\\n    if head2 is None:\\n        return head1\\n    Unfold(is_list(head1))\\n    head1.next = join_lists(head1.next, head2)\\n    Fold(is_list(head1))\\n    return head1\\n'},\n",
       " {'role': 'user',\n",
       "  'content': 'def reverseList(head: Node) -> Optional[Node]:\\n    \"\"\"Reverses the list and returns the new head.\"\"\"\\n    Requires(is_list(head))\\n    Ensures(Implies(Result() is not None, is_list(Result())))\\n    \\n    Unfold(is_list(head))\\n    if head.next is None:\\n        Fold(is_list(head))\\n        return head\\n    Fold(is_list(head))\\n    prev = None # type: Optional[Node]\\n    ptr = head # type: Optional[Node]\\n    while ptr != None:\\n        Invariant(Implies(prev is not None, is_list(prev)))\\n        Unfold(is_list(ptr))\\n        tmp = ptr.next\\n        ptr.next = prev\\n        prev = ptr\\n        Fold(is_list(ptr))\\n        ptr = tmp\\n    return prev\\n\\nVerification failed: Unfold might fail. There might be insufficient permission to access is_list(ptr). at line 15.8'},\n",
       " {'role': 'assistant',\n",
       "  'content': 'def reverseList(head: Node) -> Optional[Node]:\\n    \"\"\"Reverses the list and returns the new head.\"\"\"\\n    Requires(is_list(head))\\n    Ensures(Implies(Result() is not None, is_list(Result())))\\n    \\n    Unfold(is_list(head))\\n    if head.next is None:\\n        Fold(is_list(head))\\n        return head\\n    Fold(is_list(head))\\n    prev = None # type: Optional[Node]\\n    ptr = head # type: Optional[Node]\\n    while ptr != None:\\n        Invariant(Implies(ptr is not None, is_list(ptr)))\\n        Invariant(Implies(prev is not None, is_list(prev)))\\n        Unfold(is_list(ptr))\\n        tmp = ptr.next\\n        ptr.next = prev\\n        prev = ptr\\n        Fold(is_list(ptr))\\n        ptr = tmp\\n    return prev\\n'},\n",
       " {'role': 'user',\n",
       "  'content': 'def append(head: Node, val: int) -> None:\\n    \"\"\"Appends a new node with the given value to the end of the list.\"\"\"\\n    Requires(is_list(head))\\n    Ensures(is_list(head))\\n    if head.next is None:\\n        n = Node(val)\\n        Fold(is_list(n))\\n        head.next = n\\n    else:\\n        append(head.next, val)\\n    Fold(is_list(head))\\nVerification failed: Conditional statement might fail. There might be insufficient permission to access head.next. at line 5.7\\n# Remember: from this point on think step by step and show your work as python comments before producing the verified program\\n'}]"
      ]
     },
     "execution_count": 1,
     "metadata": {},
     "output_type": "execute_result"
    }
   ],
   "source": [
    "import evaluation\n",
    "\n",
    "evaluation = evaluation.Evaluation.from_config(\"config_cot.json\", \"gpt-4\")\n",
    "evaluation.get_few_shot_prompt(\"append\", with_errors=True)"
   ]
  },
  {
   "cell_type": "code",
   "execution_count": 2,
   "metadata": {},
   "outputs": [
    {
     "name": "stdout",
     "output_type": "stream",
     "text": [
      "Running example: prepend ; attempt: 1 ; error depth: 1\n",
      "Generated program from GPT:\n",
      "# Based on the verification error, it appears that verification is failing for the essential post condition Ensures(is_list(Result()))\n",
      "# This can happen due to lack of folding the predicate for the newly created node 'n' before returning it. \n",
      "\n",
      "def prepend(head: Node, val: int) -> Node:\n",
      "    \"\"\"Prepends a new node with the given value to the list.\"\"\"\n",
      "    Requires(is_list(head))\n",
      "    Ensures(is_list(Result()))\n",
      "    n = Node(val, head)\n",
      "    Fold(is_list(n))\n",
      "    return n\n",
      "\n",
      "=====================================\n",
      "response ['', 'Verification successful', 'Verification took 1.99 seconds.']\n",
      "Verification result:\n",
      " Verification successful \n",
      "\n",
      "\n",
      "Running example: append ; attempt: 1 ; error depth: 1\n",
      "Generated program from GPT:\n",
      "# The error message indicates that there is insufficient permission to access head.next. \n",
      "# This is because the function tries to access head.next without unfolding the predicate is_list(head).\n",
      "# Hence, I should add an Unfold before trying to access head.next. \n",
      "def append(head: Node, val: int) -> None:\n",
      "    \"\"\"Appends a new node with the given value to the end of the list.\"\"\"\n",
      "    Requires(is_list(head))\n",
      "    Ensures(is_list(head))\n",
      "    Unfold(is_list(head))\n",
      "    if head.next is None:\n",
      "        n = Node(val)\n",
      "        Fold(is_list(n))\n",
      "        head.next = n\n",
      "    else:\n",
      "        append(head.next, val)\n",
      "    Fold(is_list(head))\n",
      "=====================================\n",
      "response ['', 'Verification successful', 'Verification took 2.03 seconds.']\n",
      "Verification result:\n",
      " Verification successful \n",
      "\n",
      "\n",
      "Running example: find ; attempt: 1 ; error depth: 1\n",
      "Generated program from GPT:\n",
      "# Based on the verification error, there might be insufficient permissions to access head.next.\n",
      "# This happens because we try to access head.next without Unfolding the predicate for head.\n",
      "# Hence, I should add an Unfold at line 9 before calling find. \n",
      "\n",
      "def find(head: Optional[Node], val: int) -> Optional[Node]:\n",
      "    \"\"\"Returns the first node with the given value, or None if not found.\"\"\"\n",
      "    Requires(Implies(head is not None, is_list(head)))\n",
      "    Ensures(Implies(head is not None, is_list(head)))\n",
      "    if head is None:\n",
      "        return None\n",
      "    Unfold(is_list(head))\n",
      "    if head.val == val:\n",
      "        return head\n",
      "    result = find(head.next, val)\n",
      "    Fold(is_list(head))\n",
      "    return result\n",
      "=====================================\n",
      "response ['', 'Verification failed', 'Errors:', 'Postcondition of find might not hold. There might be insufficient permission to access is_list(head). (tmp.py@28.12)', 'Verification took 1.97 seconds.']\n",
      "Verification result:\n",
      " Verification failed: Postcondition of find might not hold. There might be insufficient permission to access is_list(head). at line 8.12 \n",
      "\n",
      "\n",
      "Running example: find_iter ; attempt: 1 ; error depth: 1\n",
      "Generated program from GPT:\n",
      "# Based on the verification error, there might be insufficient permissions to access ptr.val in line 9.\n",
      "# This is because no Unfold operation is performed before the comparison operation.\n",
      "# Hence, I should add an Unfold at line 9 before the \"if\" statement. \n",
      "\n",
      "def find_iter(head: Node, val: int) -> Optional[Node]:\n",
      "    \"\"\"Returns the first node with the given value, or None if not found.\"\"\"\n",
      "    Requires(is_list(head))\n",
      "    Ensures(Implies(Result() is not None, is_list(Result())))\n",
      "    ptr = head  # type: Optional[Node]\n",
      "    while ptr is not None:\n",
      "        Invariant(Implies(ptr is not None, is_list(ptr)))\n",
      "        Unfold(is_list(ptr))\n",
      "        if ptr.val == val:\n",
      "            Fold(is_list(ptr))\n",
      "            return ptr\n",
      "        ptr = ptr.next\n",
      "    return None\n",
      "=====================================\n",
      "response ['', 'Verification successful', 'Verification took 2.07 seconds.']\n",
      "Verification result:\n",
      " Verification successful \n",
      "\n",
      "\n",
      "Running example: remove ; attempt: 1 ; error depth: 1\n",
      "Generated program from GPT:\n",
      "# The postcondition might not hold if the 'val' is found and the head node is removed from the list. \n",
      "# In such a case, we have ensured that head.next is a list but when we return head.next, \n",
      "# we don't have the permission to access is_list(head.next).\n",
      "# After the call to remove for head.next, the verifier does not know that head.next is still a list. \n",
      "# Therefore, fold the result of head.next before returning it in the recursive call to reestablish that permission.\n",
      "\n",
      "def remove(head: Node, val: int) -> Optional[Node]:\n",
      "    \"\"\"Removes the first node with the given value from the list.\"\"\"\n",
      "    Requires(is_list(head))\n",
      "    Ensures(Implies(Result() is not None, is_list(Result())))\n",
      "\n",
      "    Unfold(is_list(head))\n",
      "    if head.val == val:\n",
      "        return head.next\n",
      "    if head.next is None:\n",
      "        Fold(is_list(head))\n",
      "        return head\n",
      "    head.next = remove(head.next, val)\n",
      "    Fold(is_list(head))\n",
      "    return head\n",
      "=====================================\n",
      "response ['', 'Verification successful', 'Verification took 2.63 seconds.']\n",
      "Verification result:\n",
      " Verification successful \n",
      "\n",
      "\n",
      "Running example: join_lists ; attempt: 1 ; error depth: 1\n",
      "Generated program from GPT:\n",
      "# Based on the verification error, there might be insufficient permission to access head1.next.\n",
      "# That's because Nagini can't guarantee that head1 is a linked list. So we should unfold the linked list before trying to access head1.next.\n",
      "# Hence, I should add Unfold just before line 10.\n",
      "\n",
      "def join_lists(head1: Optional[Node], head2: Optional[Node]) -> Optional[Node]:\n",
      "    \"\"\"Returns the head of the list obtained by joining the two lists.\"\"\"\n",
      "    Requires(Implies(head1 is not None, is_list(head1)))\n",
      "    Requires(Implies(head2 is not None, is_list(head2)))\n",
      "    Ensures(Implies(Result() is not None, is_list(Result())))\n",
      "    if head1 is None:\n",
      "        return head2\n",
      "    if head2 is None:\n",
      "        return head1\n",
      "    Unfold(is_list(head1))\n",
      "    head1.next = join_lists(head1.next, head2)\n",
      "    Fold(is_list(head1))\n",
      "    return head1\n",
      "=====================================\n",
      "response ['', 'Verification successful', 'Verification took 2.10 seconds.']\n",
      "Verification result:\n",
      " Verification successful \n",
      "\n",
      "\n",
      "Running example: reverse ; attempt: 1 ; error depth: 1\n",
      "Generated program from GPT:\n",
      "# The problem here seems to be that we are Unfolding the predicate on ptr before we have established an Invariant for it.\n",
      "# To fix it, we can add an Invariant for ptr to indicate that at the beginning of each loop iteration, ptr is a valid list.\n",
      "=====================================\n",
      "response ['', 'Verification successful', 'Verification took 1.93 seconds.']\n",
      "Verification result:\n",
      " Verification successful \n",
      "\n",
      "\n"
     ]
    }
   ],
   "source": [
    "ev = evaluation.run_eval(\n",
    "    k=1,\n",
    "    n=1,\n",
    "    with_errors=True,\n",
    ")"
   ]
  },
  {
   "cell_type": "code",
   "execution_count": 3,
   "metadata": {},
   "outputs": [
    {
     "data": {
      "text/plain": [
       "EvalResult(results={'prepend': True, 'append': True, 'find': False, 'find_iter': True, 'remove': True, 'join_lists': True, 'reverse': True}, verified_at={'prepend': (1, 1), 'append': (1, 1), 'find_iter': (1, 1), 'remove': (1, 1), 'join_lists': (1, 1), 'reverse': (1, 1)})"
      ]
     },
     "execution_count": 3,
     "metadata": {},
     "output_type": "execute_result"
    }
   ],
   "source": [
    "ev"
   ]
  },
  {
   "cell_type": "code",
   "execution_count": 4,
   "metadata": {},
   "outputs": [
    {
     "data": {
      "text/plain": [
       "EvalResult(results={'prepend': False, 'append': True, 'find': True, 'find_iter': True, 'remove': False, 'join_lists': True, 'reverse': False}, verified_at={'append': (1, 1), 'find': (1, 1), 'find_iter': (1, 1), 'join_lists': (1, 1)})"
      ]
     },
     "execution_count": 4,
     "metadata": {},
     "output_type": "execute_result"
    }
   ],
   "source": [
    "ev #without cot"
   ]
  },
  {
   "cell_type": "code",
   "execution_count": 5,
   "metadata": {},
   "outputs": [
    {
     "name": "stdout",
     "output_type": "stream",
     "text": [
      "{'prepend': 'Verification failed: Postcondition of prepend might not hold. There might be insufficient permission to access is_list(Result()). at line 4.12', 'append': 'Verification failed: Conditional statement might fail. There might be insufficient permission to access head.next. at line 5.7', 'find': 'Verification failed: Method call might fail. There might be insufficient permission to access head.next. at line 9.13', 'find_iter': 'Verification failed: Conditional statement might fail. There might be insufficient permission to access ptr.val. at line 9.11', 'remove': 'Verification failed: Postcondition of remove might not hold. There might be insufficient permission to access is_list(Result()). at line 4.12', 'join_lists': 'Verification failed: Method call might fail. There might be insufficient permission to access head1.next. at line 10.17', 'reverse': 'Verification failed: Unfold might fail. There might be insufficient permission to access is_list(ptr). at line 15.8'}\n"
     ]
    }
   ],
   "source": [
    "# print contents of the cached verification result\n",
    "import pickle\n",
    "\n",
    "with open(\"nagini_examples/verif_result_partial.pkl\", \"rb\") as f:\n",
    "    print(pickle.load(f))"
   ]
  },
  {
   "cell_type": "code",
   "execution_count": 19,
   "metadata": {},
   "outputs": [
    {
     "data": {
      "text/plain": [
       "[{'role': 'system',\n",
       "  'content': 'You are an assistant that given a python program, \\nannotates it with appropriate Nagini annotations so that verification succeeds.\\n\\nNagini is a static verifier for Python. \\nOur aim is to given a statically typed Python program, \\nto come up with appropriate preconditions (e.g. Requires(is_list(head))), postcondition (e.g. Ensures(is_list(Result()))),\\nloop invariants (Invariant(<assertion>)), predicate fold/unfolds (e.g. Fold(is_list(head)) / Unfold(is_list(head))) \\nso that the program verifies correctly.\\nThe user will provide Python code and the verification errors. \\nYou must add or change the specifications so that the resulting code verifies correctly. \\nFirst, think step-by-step: explain your reasoning as python code comments e.g.\\n# Based on the verification error there might be insufficient permissions ...\\n# Hence, I should add an Unfold at line 7 ...\\nFollowing the comments, return only the code without any explanation or wrapping. e.g.\\ndef append(head: Node, val: int) -> None:\\n    \"\"\"Appends a new node with the given value to the end of the list.\"\"\"\\n    Requires(is_list(head))\\n    Ensures(is_list(head))\\n....\\n'},\n",
       " {'role': 'user',\n",
       "  'content': 'def prepend(head: Node, val: int) -> Node:\\n    \"\"\"Prepends a new node with the given value to the list.\"\"\"\\n    Requires(is_list(head))\\n    Ensures(is_list(Result()))\\n    n = Node(val, head)\\n    return n\\n\\nVerification failed: Postcondition of prepend might not hold. There might be insufficient permission to access is_list(Result()). at line 4.12'},\n",
       " {'role': 'assistant',\n",
       "  'content': 'def prepend(head: Node, val: int) -> Node:\\n    \"\"\"Prepends a new node with the given value to the list.\"\"\"\\n    Requires(is_list(head))\\n    Ensures(is_list(Result()))\\n    n = Node(val, head)\\n    Fold(is_list(n))\\n    return n\\n'},\n",
       " {'role': 'user',\n",
       "  'content': 'def append(head: Node, val: int) -> None:\\n    \"\"\"Appends a new node with the given value to the end of the list.\"\"\"\\n    Requires(is_list(head))\\n    Ensures(is_list(head))\\n    if head.next is None:\\n        n = Node(val)\\n        Fold(is_list(n))\\n        head.next = n\\n    else:\\n        append(head.next, val)\\n    Fold(is_list(head))\\nVerification failed: Conditional statement might fail. There might be insufficient permission to access head.next. at line 5.7'},\n",
       " {'role': 'assistant',\n",
       "  'content': 'def append(head: Node, val: int) -> None:\\n    \"\"\"Appends a new node with the given value to the end of the list.\"\"\"\\n    Requires(is_list(head))\\n    Ensures(is_list(head))\\n    Unfold(is_list(head))\\n    if head.next is None:\\n        n = Node(val)\\n        Fold(is_list(n))\\n        head.next = n\\n    else:\\n        append(head.next, val)\\n    Fold(is_list(head))'},\n",
       " {'role': 'user',\n",
       "  'content': 'def find(head: Optional[Node], val: int) -> Optional[Node]:\\n    \"\"\"Returns the first node with the given value, or None if not found.\"\"\"\\n    Requires(Implies(head is not None, is_list(head)))\\n    Ensures(Implies(head is not None, is_list(head)))\\n    if head is None:\\n        return None\\n    if Unfolding(is_list(head), head.val) == val:\\n        return head\\n    result = find(head.next, val)\\n    Fold(is_list(head))\\n    return result\\n\\nVerification failed: Method call might fail. There might be insufficient permission to access head.next. at line 9.13'},\n",
       " {'role': 'assistant',\n",
       "  'content': 'def find(head: Optional[Node], val: int) -> Optional[Node]:\\n    \"\"\"Returns the first node with the given value, or None if not found.\"\"\"\\n    Requires(Implies(head is not None, is_list(head)))\\n    Ensures(Implies(head is not None, is_list(head)))\\n    if head is None:\\n        return None\\n    if Unfolding(is_list(head), head.val) == val:\\n        return head\\n    Unfold(is_list(head))\\n    result = find(head.next, val)\\n    Fold(is_list(head))\\n    return result\\n'},\n",
       " {'role': 'user',\n",
       "  'content': 'def find_iter(head: Node, val: int) -> Optional[Node]:\\n    \"\"\"Returns the first node with the given value, or None if not found.\"\"\"\\n    Requires(is_list(head))\\n    Ensures(Implies(Result() is not None, is_list(Result())))\\n    ptr = head  # type: Optional[Node]\\n    while ptr is not None:\\n        Invariant(Implies(ptr is not None, is_list(ptr)))\\n        if ptr.val == val:\\n            Fold(is_list(ptr))\\n            return ptr\\n        ptr = ptr.next\\n    return None\\n\\nVerification failed: Conditional statement might fail. There might be insufficient permission to access ptr.val. at line 9.11'},\n",
       " {'role': 'assistant',\n",
       "  'content': 'def find_iter(head: Node, val: int) -> Optional[Node]:\\n    \"\"\"Returns the first node with the given value, or None if not found.\"\"\"\\n    Requires(is_list(head))\\n    Ensures(Implies(Result() is not None, is_list(Result())))\\n    ptr = head  # type: Optional[Node]\\n    while ptr is not None:\\n        Invariant(Implies(ptr is not None, is_list(ptr)))\\n        Unfold(is_list(ptr))\\n        if ptr.val == val:\\n            Fold(is_list(ptr))\\n            return ptr\\n        ptr = ptr.next\\n    return None\\n'},\n",
       " {'role': 'user',\n",
       "  'content': 'def remove(head: Node, val: int) -> Optional[Node]:\\n    \"\"\"Removes the first node with the given value from the list.\"\"\"\\n    Requires(is_list(head))\\n    Ensures(Implies(Result() is not None, is_list(Result())))\\n\\n    Unfold(is_list(head))\\n    if head.val == val:\\n        return head.next\\n    if head.next is None:\\n        Fold(is_list(head))\\n        return head\\n    head.next = remove(head.next, val)\\n    return head\\n\\nVerification failed: Postcondition of remove might not hold. There might be insufficient permission to access is_list(Result()). at line 4.12'},\n",
       " {'role': 'assistant',\n",
       "  'content': 'def remove(head: Node, val: int) -> Optional[Node]:\\n    \"\"\"Removes the first node with the given value from the list.\"\"\"\\n    Requires(is_list(head))\\n    Ensures(Implies(Result() is not None, is_list(Result())))\\n\\n    Unfold(is_list(head))\\n    if head.val == val:\\n        return head.next\\n    if head.next is None:\\n        Fold(is_list(head))\\n        return head\\n    head.next = remove(head.next, val)\\n    Fold(is_list(head))\\n    return head\\n'},\n",
       " {'role': 'user',\n",
       "  'content': 'def join_lists(head1: Optional[Node], head2: Optional[Node]) -> Optional[Node]:\\n    \"\"\"Returns the head of the list obtained by joining the two lists.\"\"\"\\n    Requires(Implies(head1 is not None, is_list(head1)))\\n    Requires(Implies(head2 is not None, is_list(head2)))\\n    Ensures(Implies(Result() is not None, is_list(Result())))\\n    if head1 is None:\\n        return head2\\n    if head2 is None:\\n        return head1\\n    head1.next = join_lists(head1.next, head2)\\n    Fold(is_list(head1))\\n    return head1\\n\\nVerification failed: Method call might fail. There might be insufficient permission to access head1.next. at line 10.17'},\n",
       " {'role': 'assistant',\n",
       "  'content': 'def join_lists(head1: Optional[Node], head2: Optional[Node]) -> Optional[Node]:\\n    \"\"\"Returns the head of the list obtained by joining the two lists.\"\"\"\\n    Requires(Implies(head1 is not None, is_list(head1)))\\n    Requires(Implies(head2 is not None, is_list(head2)))\\n    Ensures(Implies(Result() is not None, is_list(Result())))\\n    if head1 is None:\\n        return head2\\n    if head2 is None:\\n        return head1\\n    Unfold(is_list(head1))\\n    head1.next = join_lists(head1.next, head2)\\n    Fold(is_list(head1))\\n    return head1\\n'},\n",
       " {'role': 'user',\n",
       "  'content': 'def reverseList(head: Node) -> Optional[Node]:\\n    \"\"\"Reverses the list and returns the new head.\"\"\"\\n    Requires(is_list(head))\\n    Ensures(Implies(Result() is not None, is_list(Result())))\\n    \\n    Unfold(is_list(head))\\n    if head.next is None:\\n        Fold(is_list(head))\\n        return head\\n    Fold(is_list(head))\\n    prev = None # type: Optional[Node]\\n    ptr = head # type: Optional[Node]\\n    while ptr != None:\\n        Invariant(Implies(prev is not None, is_list(prev)))\\n        Unfold(is_list(ptr))\\n        tmp = ptr.next\\n        ptr.next = prev\\n        prev = ptr\\n        Fold(is_list(ptr))\\n        ptr = tmp\\n    return prev\\n\\nVerification failed: Unfold might fail. There might be insufficient permission to access is_list(ptr). at line 15.8\\n# Remember: from this point on think step by step and show your work as python comments before producing the verified program\\n\\nIMPORTANT: THINK STEP BY STEP AND REMEMBER TO EXPLAIN YOUR WORK IN PYTHON COMMENTS BEFORE PRODUCING THE VERIFYING PROGRAM.'}]"
      ]
     },
     "execution_count": 19,
     "metadata": {},
     "output_type": "execute_result"
    }
   ],
   "source": [
    "reverse_prompt = evaluation.get_few_shot_prompt(\"reverse\", with_errors=True)\n",
    "reverse_prompt[-1]['content'] += \"\\nIMPORTANT: THINK STEP BY STEP AND REMEMBER TO EXPLAIN YOUR WORK IN PYTHON COMMENTS BEFORE PRODUCING THE VERIFYING PROGRAM.\"\n",
    "reverse_prompt"
   ]
  },
  {
   "cell_type": "code",
   "execution_count": 22,
   "metadata": {},
   "outputs": [
    {
     "name": "stdout",
     "output_type": "stream",
     "text": [
      "{\n",
      "  \"id\": \"chatcmpl-8IO7cYPlYpUuiRYtdIaboFzIrM6zB\",\n",
      "  \"object\": \"chat.completion\",\n",
      "  \"created\": 1699393320,\n",
      "  \"model\": \"gpt-3.5-turbo-0613\",\n",
      "  \"choices\": [\n",
      "    {\n",
      "      \"index\": 0,\n",
      "      \"message\": {\n",
      "        \"role\": \"assistant\",\n",
      "        \"content\": \"def prepend(head: Node, val: int) -> Node:\\n    \\\"\\\"\\\"Prepends a new node with the given value to the list.\\\"\\\"\\\"\\n    Requires(is_list(head))\\n    Ensures(is_list(Result()))\\n    Fold(is_list(head))\\n    n = Node(val, head)\\n    Unfold(is_list(n))\\n    return n\"\n",
      "      },\n",
      "      \"finish_reason\": \"stop\"\n",
      "    }\n",
      "  ],\n",
      "  \"usage\": {\n",
      "    \"prompt_tokens\": 2033,\n",
      "    \"completion_tokens\": 66,\n",
      "    \"total_tokens\": 2099\n",
      "  }\n",
      "}\n",
      "Generated program from GPT:\n",
      "def prepend(head: Node, val: int) -> Node:\n",
      "    \"\"\"Prepends a new node with the given value to the list.\"\"\"\n",
      "    Requires(is_list(head))\n",
      "    Ensures(is_list(Result()))\n",
      "    Fold(is_list(head))\n",
      "    n = Node(val, head)\n",
      "    Unfold(is_list(n))\n",
      "    return n\n",
      "=====================================\n",
      "response ['', 'Verification failed', 'Errors:', 'Fold might fail. There might be insufficient permission to access head.val. (tmp.py@25.4)', 'Verification took 1.90 seconds.']\n",
      "Verification result:\n",
      " Verification failed: Fold might fail. There might be insufficient permission to access head.val. at line 5.4\n"
     ]
    }
   ],
   "source": [
    "from evaluation import _call_gpt_with_timeout, _print_and_process_response\n",
    "response = _call_gpt_with_timeout(\n",
    "    model=\"gpt-3.5-turbo\",\n",
    "    messages=evaluation.get_few_shot_prompt(\"prepend\", with_errors=True),\n",
    ")\n",
    "print(response)\n",
    "program_snippet = _print_and_process_response(response)\n",
    "print(\"Verification result:\\n\", evaluation._verify_program_snippet(\"list\", program_snippet))"
   ]
  }
 ],
 "metadata": {
  "kernelspec": {
   "display_name": "l4vp",
   "language": "python",
   "name": "python3"
  },
  "language_info": {
   "codemirror_mode": {
    "name": "ipython",
    "version": 3
   },
   "file_extension": ".py",
   "mimetype": "text/x-python",
   "name": "python",
   "nbconvert_exporter": "python",
   "pygments_lexer": "ipython3",
   "version": "3.12.0"
  }
 },
 "nbformat": 4,
 "nbformat_minor": 2
}
